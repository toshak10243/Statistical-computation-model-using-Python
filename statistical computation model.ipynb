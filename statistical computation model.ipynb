{
 "cells": [
  {
   "cell_type": "code",
   "execution_count": null,
   "id": "06fc7e24-4da4-4f08-9c88-7a3c5f3791ec",
   "metadata": {},
   "outputs": [],
   "source": [
    "import numpy as np\n",
    "import scipy.stats as stats\n",
    "\n",
    "class StatisticalAIModel:\n",
    "    def __init__(self, data):\n",
    "        self.data = np.array(data)\n",
    "    \n",
    "    def mean(self):\n",
    "        return np.mean(self.data)\n",
    "    \n",
    "    def median(self):\n",
    "        return np.median(self.data)\n",
    "    \n",
    "    def mode(self):\n",
    "        return stats.mode(self.data, keepdims=True)[0][0]\n",
    "    \n",
    "    def data_range(self):\n",
    "        return np.max(self.data) - np.min(self.data)\n",
    "    \n",
    "    def variance(self):\n",
    "        return np.var(self.data, ddof=1)\n",
    "    \n",
    "    def standard_deviation(self):\n",
    "        return np.std(self.data, ddof=1)\n",
    "    \n",
    "    def covariance(self, other_data):\n",
    "        return np.cov(self.data, other_data, ddof=1)[0][1]\n",
    "    \n",
    "    def coefficient_of_variation(self):\n",
    "        return (self.standard_deviation() / self.mean()) * 100\n",
    "    \n",
    "    def correlation(self, other_data):\n",
    "        return np.corrcoef(self.data, other_data)[0, 1]\n",
    "\n",
    "# Example Usage\n",
    "if __name__ == \"__main__\":\n",
    "    n = int(input(\"Enter the number of data points: \"))\n",
    "    data = [float(input(f\"Enter value {i+1}: \")) for i in range(n)]\n",
    "    model = StatisticalAIModel(data)\n",
    "    \n",
    "    print(\"Mean:\", model.mean())\n",
    "    print(\"Median:\", model.median())\n",
    "    print(\"Mode:\", model.mode())\n",
    "    print(\"Range:\", model.data_range())\n",
    "    print(\"Variance:\", model.variance())\n",
    "    print(\"Standard Deviation:\", model.standard_deviation())\n",
    "    \n",
    "    # Taking second dataset for covariance and correlation\n",
    "    other_data = [float(input(f\"Enter second dataset value {i+1}: \")) for i in range(n)]\n",
    "    print(\"Covariance:\", model.covariance(other_data))\n",
    "    print(\"Coefficient of Variation:\", model.coefficient_of_variation())\n",
    "    print(\"Correlation:\", model.correlation(other_data))"
   ]
  },
  {
   "cell_type": "code",
   "execution_count": null,
   "id": "cc497ea1-2e6b-47e5-82a3-d9db1480a198",
   "metadata": {},
   "outputs": [],
   "source": []
  }
 ],
 "metadata": {
  "kernelspec": {
   "display_name": "Python 3 (ipykernel)",
   "language": "python",
   "name": "python3"
  },
  "language_info": {
   "codemirror_mode": {
    "name": "ipython",
    "version": 3
   },
   "file_extension": ".py",
   "mimetype": "text/x-python",
   "name": "python",
   "nbconvert_exporter": "python",
   "pygments_lexer": "ipython3",
   "version": "3.12.4"
  }
 },
 "nbformat": 4,
 "nbformat_minor": 5
}
